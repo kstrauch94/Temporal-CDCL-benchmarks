{
 "cells": [
  {
   "cell_type": "code",
   "execution_count": 1,
   "id": "ec5a1490-9f04-4223-a0dd-ff7f88e63034",
   "metadata": {},
   "outputs": [
    {
     "data": {
      "text/html": [
       "        <script type=\"text/javascript\">\n",
       "        window.PlotlyConfig = {MathJaxConfig: 'local'};\n",
       "        if (window.MathJax && window.MathJax.Hub && window.MathJax.Hub.Config) {window.MathJax.Hub.Config({SVG: {font: \"STIX-Web\"}});}\n",
       "        if (typeof require !== 'undefined') {\n",
       "        require.undef(\"plotly\");\n",
       "        requirejs.config({\n",
       "            paths: {\n",
       "                'plotly': ['https://cdn.plot.ly/plotly-2.12.1.min']\n",
       "            }\n",
       "        });\n",
       "        require(['plotly'], function(Plotly) {\n",
       "            window._Plotly = Plotly;\n",
       "        });\n",
       "        }\n",
       "        </script>\n",
       "        "
      ]
     },
     "metadata": {},
     "output_type": "display_data"
    }
   ],
   "source": [
    "import plotly as py\n",
    "import plotly.graph_objs as go\n",
    "import ipywidgets as widgets\n",
    "import numpy as np\n",
    "\n",
    "from math import log\n",
    "from statistics import geometric_mean\n",
    "\n",
    "py.offline.init_notebook_mode(connected=True)"
   ]
  },
  {
   "cell_type": "code",
   "execution_count": 2,
   "id": "2907f527-1eeb-44f9-8892-6a2a6f7a241e",
   "metadata": {},
   "outputs": [],
   "source": [
    "import pandas as pd\n",
    "\n",
    "from parsecsv import parse_csv"
   ]
  },
  {
   "cell_type": "code",
   "execution_count": 3,
   "id": "38bcd0c6-8c52-4ebf-bb69-96759f4aa63d",
   "metadata": {},
   "outputs": [],
   "source": [
    "MIN_NGS_ADDED = 1\n",
    "BASE = \"base\"\n",
    "BASE_HEUR = \"base-heur\"\n",
    "TIMEOUT = 900\n",
    "PROCESSING = \"first\"\n",
    "\n",
    "LIMS = {}\n",
    "LIMS[\"ground\"] = (20, 900)\n",
    "LIMS[\"time\"] = (0.1, TIMEOUT*1.5)\n",
    "LIMS[\"ctime\"] = (0.1, TIMEOUT*1.5)\n",
    "\n",
    "\n",
    "LIMS[\"csolve\"] = (0.1, 900)\n",
    "LIMS[\"mem\"] = (5_000, 16_800_000)\n",
    "LIMS[\"choices\"] = (1, 1_000_000_000)\n",
    "LIMS[\"conflicts\"] = (1, 1_000_000_000)\n"
   ]
  },
  {
   "cell_type": "code",
   "execution_count": 4,
   "id": "0fb798f3-c3ff-4f4a-a62b-8ce821774b1e",
   "metadata": {},
   "outputs": [],
   "source": [
    "def get_dom(instance):\n",
    "\tinst = instance.split(\"/\")\n",
    "\n",
    "\tif \"ipc-\" in instance:\n",
    "\t\t#return inst[-4] + \"-\" + inst[-2]\n",
    "\t\treturn \"rintanen\"\n",
    "\n",
    "\tif \"hard\" in instance:\n",
    "\t\t#return inst[-4] + \"-\" + inst[-3]\n",
    "\t\treturn \"hard\"\n",
    "\t\t\n",
    "\telif \"easy\" in instance:\n",
    "\t\t#return inst[-4] + \"-\" + inst[-3]\n",
    "\t\treturn \"easy\"\n",
    "\t\n",
    "\telif \"instance\" in instance:\n",
    "\t\treturn inst[-3]\n",
    "\t\n",
    "\telif \"asp\" in instance:\n",
    "\t\treturn inst[-2]\n",
    "\n",
    "\traise RuntimeError(f\"No dom for instances {instance}\")\n"
   ]
  },
  {
   "cell_type": "code",
   "execution_count": 16,
   "id": "8ed11523-9524-43c3-b767-50b9a4c8bbdf",
   "metadata": {},
   "outputs": [],
   "source": [
    "def plotly_scatter(dataframes, config, stat, min_ngs, min_choices):\n",
    "    if \"heur\" in config:\n",
    "        base_config = \"base-heur\"\n",
    "    else:\n",
    "        base_config = \"base\"\n",
    "    \n",
    "    instances_ngadded = dataframes[\"ngadded\"][config][ (dataframes[\"ngadded\"][config] >= min_ngs) & \\\n",
    "                                                                        ( (dataframes[\"time\"][config] != TIMEOUT) & \\\n",
    "                                                                        (dataframes[\"time\"][base_config] != TIMEOUT) & \\\n",
    "                                                                        (dataframes[\"choices\"][base_config] >= min_choices))].index\n",
    "\n",
    "    print(config)\n",
    "    print(f\"Total instances: {len(instances_ngadded)}\")\n",
    "\n",
    "    frame = pd.DataFrame()\n",
    "    frame[\"x\"] = dataframes[stat][base_config][instances_ngadded]\n",
    "    frame[\"y\"] = dataframes[stat][config][instances_ngadded]\n",
    "\n",
    "    frame[\"dom\"] = [get_dom(inst) for inst in instances_ngadded]\n",
    "    frame[\"ngadded\"] = [int(ng) for ng in dataframes[\"ngadded\"][config][instances_ngadded]]\n",
    "    \n",
    "    layout = go.Layout(\n",
    "        title=dict(\n",
    "            text=f\"Scatter plot - {config} <br> Minimum of {min_ngs} nogoods <br> {len(frame['x'])} instances\",\n",
    "            y=0.9,\n",
    "            x=0.5,\n",
    "            xanchor=\"center\",\n",
    "            yanchor=\"top\"\n",
    "        ),\n",
    "        yaxis=dict(\n",
    "            title=f\"{stat} with config {config}\",\n",
    "            type=\"log\",\n",
    "            range=[log(v,10) for v in LIMS[stat]]\n",
    "        ),\n",
    "        xaxis=dict(\n",
    "            title=f\"{stat} with base\",\n",
    "            type=\"log\",\n",
    "            range=[log(v,10) for v in LIMS[stat]]\n",
    "        ),\n",
    "        width=1400,\n",
    "        height=1000,\n",
    "    )\n",
    "    \n",
    "\n",
    "    grouped = frame.groupby(\"dom\")\n",
    "\n",
    "    data = []\n",
    "    for dom in sorted(set(frame[\"dom\"])):\n",
    "        df = grouped.get_group(dom)\n",
    "        base_gmean = geometric_mean([float(v)+0.1 for v in df['x']])\n",
    "        base_avg = df['x'].mean()\n",
    "        config_gmean = geometric_mean([float(v)+0.1 for v in df['y']])\n",
    "        config_avg = df['y'].mean()\n",
    "        ng_avg = df[\"ngadded\"].mean()\n",
    "        print(f\"{stat:10}  :  {dom:50}  :  {len(df.index):4}  :  base : {base_gmean:12.3f} : base avg  : {base_avg:10.2f} config: {config_gmean:12.3f} : config avg  : {config_avg:10.2f}  :  avg ng added: {ng_avg:12.2f}\")\n",
    "        \n",
    "        trace = go.Scatter(\n",
    "            x=df[\"x\"],\n",
    "            y=df[\"y\"],\n",
    "            mode=\"markers\",\n",
    "            name=f\"{dom}\",\n",
    "            marker=dict(\n",
    "                cmax=1500,\n",
    "                cmin=0,\n",
    "                color=df[\"ngadded\"],\n",
    "                colorbar=dict(\n",
    "                    title=\"Added nogoods\",\n",
    "                    y=1,\n",
    "                    x=-0.2,\n",
    "                    ticks=\"outside\",\n",
    "                    yanchor=\"top\",\n",
    "                    \n",
    "                ),\n",
    "                colorscale=\"Viridis\"\n",
    "            )    \n",
    "        )\n",
    "        \n",
    "        data.append(trace)\n",
    "        \n",
    "    fig = go.Figure(data=data, layout=layout)\n",
    "\n",
    "    if stat in LIMS:\n",
    "        limits = LIMS[stat]\n",
    "        fig.add_shape(type=\"line\",x0=0,y0=0, x1=limits[1],y1=limits[1],\n",
    "                line=dict(color='Red'),\n",
    "                xref='x',\n",
    "                yref='y')\n",
    "\n",
    "    py.offline.iplot(fig)"
   ]
  },
  {
   "cell_type": "code",
   "execution_count": 17,
   "id": "549724ac-4583-4dc9-a8ea-708e545339b0",
   "metadata": {},
   "outputs": [],
   "source": [
    "# These 2 files have as the base the modified encoding WITHOUT adding temporal nogoods\n",
    "#file_name = \"incremental/results-generalization-inc-asp.csv\"\n",
    "file_name = \"incremental/results-generalization-inc-pddl.csv\"\n",
    "#file_name = \"incremental/results-generalization-inc-pddl-rintanen.csv\"\n",
    "\n",
    "# These 2 files have as the base the NORMAL incremental encoding\n",
    "# If you use these 2 files, set the minimim nogoods added to 0\n",
    "#file_name = \"incremental/results-generalization-inc-asp-vs-normal.csv\"\n",
    "#file_name = \"incremental/results-generalization-inc-pddl-vs-normal.csv\"\n",
    "\n",
    "dataframes, merged_df, config_names, stat_names = parse_csv.read_csv(file_name, do_processing=PROCESSING)\n"
   ]
  },
  {
   "cell_type": "code",
   "execution_count": 18,
   "id": "a6985daf-98bc-4b70-91fd-4bdd4eb99245",
   "metadata": {},
   "outputs": [
    {
     "data": {
      "application/vnd.jupyter.widget-view+json": {
       "model_id": "6b3f8a12da284c0f8842636b45cd464d",
       "version_major": 2,
       "version_minor": 0
      },
      "text/plain": [
       "interactive(children=(Select(description='Configuration', layout=Layout(width='400px'), options=('max-1000-ste…"
      ]
     },
     "metadata": {},
     "output_type": "display_data"
    }
   ],
   "source": [
    "layout = widgets.Layout(width='400px')\n",
    "\n",
    "min_ngs = widgets.BoundedIntText(min=0, max=1000, value=1, step=10, description=\"Minimum nogoods added\")\n",
    "min_choices = widgets.BoundedIntText(min=0, max=500000, value=0, step=1000, description=\"Minimum choices to consider in base solve\")\n",
    "\n",
    "\n",
    "non_base_configs = [c for c in set(config_names) if \"base\" not in c]\n",
    "config = widgets.Select(options=sorted(non_base_configs), value=sorted(non_base_configs)[0], description=\"Configuration\", layout=layout)\n",
    "\n",
    "stat = widgets.Select(options=[\"time\", \"ctime\", \"conflicts\", \"choices\"], value=\"choices\", description=\"Stats\")\n",
    "\n",
    "widgets.interactive(lambda config, stat, min_ngs, min_choices: plotly_scatter(dataframes, config, stat, min_ngs, min_choices), \\\n",
    "                    config=config, stat=stat, min_ngs=min_ngs, min_choices=min_choices)\n",
    "\n"
   ]
  },
  {
   "cell_type": "code",
   "execution_count": null,
   "id": "db26c059-44b7-4d3e-bc9b-9c55ec460533",
   "metadata": {},
   "outputs": [],
   "source": []
  }
 ],
 "metadata": {
  "kernelspec": {
   "display_name": "Python 3 (ipykernel)",
   "language": "python",
   "name": "python3"
  },
  "language_info": {
   "codemirror_mode": {
    "name": "ipython",
    "version": 3
   },
   "file_extension": ".py",
   "mimetype": "text/x-python",
   "name": "python",
   "nbconvert_exporter": "python",
   "pygments_lexer": "ipython3",
   "version": "3.9.12"
  }
 },
 "nbformat": 4,
 "nbformat_minor": 5
}
